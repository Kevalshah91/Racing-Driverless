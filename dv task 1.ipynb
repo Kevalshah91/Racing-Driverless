{
 "cells": [
  {
   "cell_type": "code",
   "execution_count": 3,
   "id": "ee1287d9",
   "metadata": {},
   "outputs": [],
   "source": [
    "#Q1\n",
    "def check_even(num):\n",
    "    if num%2==0:\n",
    "        print('Even')\n",
    "    else:\n",
    "        print('Odd')"
   ]
  },
  {
   "cell_type": "code",
   "execution_count": 4,
   "id": "5fb1b506",
   "metadata": {},
   "outputs": [
    {
     "name": "stdout",
     "output_type": "stream",
     "text": [
      "Even\n"
     ]
    }
   ],
   "source": [
    "check_even(20)"
   ]
  },
  {
   "cell_type": "code",
   "execution_count": 5,
   "id": "6e04b8a4",
   "metadata": {},
   "outputs": [
    {
     "name": "stdout",
     "output_type": "stream",
     "text": [
      "Odd\n"
     ]
    }
   ],
   "source": [
    "check_even(17)"
   ]
  },
  {
   "cell_type": "code",
   "execution_count": 11,
   "id": "94e57554",
   "metadata": {},
   "outputs": [
    {
     "name": "stdout",
     "output_type": "stream",
     "text": [
      "Enter element 1: 5\n",
      "Enter element 2: -10\n",
      "Enter element 3: 6\n",
      "6.0\n"
     ]
    }
   ],
   "source": [
    "#Q2\n",
    "lst = []\n",
    "for i in range(3):\n",
    "    element = input(f\"Enter element {i + 1}: \")\n",
    "    lst.append(float(element))\n",
    "m = max(lst)\n",
    "print(m)"
   ]
  },
  {
   "cell_type": "code",
   "execution_count": 12,
   "id": "a63ea6f1",
   "metadata": {},
   "outputs": [
    {
     "name": "stdout",
     "output_type": "stream",
     "text": [
      "Expression : 2+5*9-10\n",
      "Result: 37\n"
     ]
    }
   ],
   "source": [
    "#Q3 \n",
    "x = input(\"Expression : \")\n",
    "try:\n",
    "    result = eval(x)\n",
    "    print(\"Result:\", result)\n",
    "except Exception as e:\n",
    "    print(\"Error:\", e)\n"
   ]
  },
  {
   "cell_type": "code",
   "execution_count": 14,
   "id": "7d1298d8",
   "metadata": {},
   "outputs": [
    {
     "name": "stdout",
     "output_type": "stream",
     "text": [
      "Enter string : KEVal\n",
      "Number of vowels: 2\n"
     ]
    }
   ],
   "source": [
    "#Q4\n",
    "count = 0\n",
    "text = input(\"Enter string : \")\n",
    "t = text.lower()\n",
    "vowels = \"aeiou\"\n",
    "for char in t:\n",
    "    if char in vowels:\n",
    "        count += 1\n",
    "print(\"Number of vowels:\", count)"
   ]
  },
  {
   "cell_type": "code",
   "execution_count": 3,
   "id": "dbf3ded7",
   "metadata": {},
   "outputs": [
    {
     "name": "stdout",
     "output_type": "stream",
     "text": [
      "Enter number of elements : 4\n",
      "Enter element 1: -4\n",
      "Enter element 2: -2\n",
      "Enter element 3: -1\n",
      "Enter element 4: -10\n",
      "Largest :  -1.0\n"
     ]
    }
   ],
   "source": [
    "#Q5\n",
    "lst = []\n",
    "n = int(input(\"Enter number of elements : \"))\n",
    "for i in range(n):\n",
    "    element = input(f\"Enter element {i + 1}: \")\n",
    "    lst.append(float(element))\n",
    "m = max(lst)\n",
    "print(\"Largest : \",m)"
   ]
  },
  {
   "cell_type": "code",
   "execution_count": 13,
   "id": "8503063b",
   "metadata": {},
   "outputs": [
    {
     "name": "stdout",
     "output_type": "stream",
     "text": [
      "yhnPTO\n"
     ]
    }
   ],
   "source": [
    "# Q6\n",
    "# output = \"yhnPTO\"\n",
    "x = \"PyThOn\"\n",
    "output = \"\"\n",
    "for char in x:\n",
    "    if char.islower():\n",
    "        output += char\n",
    "for char in x:\n",
    "    if char.isupper():\n",
    "        output += char\n",
    "print(output)"
   ]
  },
  {
   "cell_type": "code",
   "execution_count": 14,
   "id": "6f868057",
   "metadata": {},
   "outputs": [
    {
     "data": {
      "text/plain": [
       "'keval'"
      ]
     },
     "execution_count": 14,
     "metadata": {},
     "output_type": "execute_result"
    }
   ],
   "source": [
    "name = 'lavek'\n",
    "y = name[::-1]\n",
    "y"
   ]
  },
  {
   "cell_type": "code",
   "execution_count": 6,
   "id": "65edfaff",
   "metadata": {},
   "outputs": [
    {
     "name": "stdout",
     "output_type": "stream",
     "text": [
      "Enter stuff to claculate : 10/0\n",
      "Result: Error: division by zero\n"
     ]
    }
   ],
   "source": [
    "class Calc:\n",
    "    def calculate(self,x):\n",
    "        try:\n",
    "            result = eval(x)\n",
    "            return result\n",
    "        except Exception as e:\n",
    "            return f\"Error: {e}\"\n",
    "calc = Calc()\n",
    "\n",
    "user_input = input(\"Enter stuff to claculate : \")\n",
    "result = calc.calculate(user_input)\n",
    "print(\"Result:\", result)"
   ]
  },
  {
   "cell_type": "code",
   "execution_count": null,
   "id": "d9a7b171",
   "metadata": {},
   "outputs": [],
   "source": []
  }
 ],
 "metadata": {
  "kernelspec": {
   "display_name": "Python 3 (ipykernel)",
   "language": "python",
   "name": "python3"
  },
  "language_info": {
   "codemirror_mode": {
    "name": "ipython",
    "version": 3
   },
   "file_extension": ".py",
   "mimetype": "text/x-python",
   "name": "python",
   "nbconvert_exporter": "python",
   "pygments_lexer": "ipython3",
   "version": "3.10.9"
  }
 },
 "nbformat": 4,
 "nbformat_minor": 5
}
